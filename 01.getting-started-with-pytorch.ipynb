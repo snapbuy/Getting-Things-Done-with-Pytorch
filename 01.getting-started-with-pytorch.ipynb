{
  "cells": [
    {
      "cell_type": "markdown",
      "metadata": {
        "colab_type": "text",
        "id": "T1bdIQ2NW1fr"
      },
      "source": [
        "# Getting Started with PyTorch\n",
        "\n",
        "[PyTorch](https://pytorch.org/) is:\n",
        "\n",
        "> An open source machine learning framework that accelerates the path from research prototyping to production deployment.\n",
        "\n",
        "In my humble opinion, PyTorch is the [sweet](https://www.youtube.com/watch?v=-h4spfuMGDI) way to solve Machine Learning problems, in the real world! The vast community allows you to work state-of-the-art models and deploy them to production in no time (relatively speaking). Let's get started!"
      ]
    },
    {
      "cell_type": "code",
      "execution_count": null,
      "metadata": {
        "colab": {},
        "colab_type": "code",
        "id": "7Y-d-CKtEk72"
      },
      "outputs": [],
      "source": [
        "!pip install -q -U torch watermark"
      ]
    },
    {
      "cell_type": "code",
      "execution_count": null,
      "metadata": {
        "colab": {
          "base_uri": "https://localhost:8080/",
          "height": 102
        },
        "colab_type": "code",
        "id": "E907oEHK8Evf",
        "outputId": "5898f234-37d5-4136-b6df-c60ce0a0988f"
      },
      "outputs": [
        {
          "name": "stdout",
          "output_type": "stream",
          "text": [
            "CPython 3.6.9\n",
            "IPython 5.5.0\n",
            "\n",
            "numpy 1.17.5\n",
            "torch 1.4.0\n"
          ]
        }
      ],
      "source": [
        "%load_ext watermark\n",
        "%watermark -v -p numpy,torch"
      ]
    },
    {
      "cell_type": "markdown",
      "metadata": {
        "colab_type": "text",
        "id": "QKXpuuCt3rYB"
      },
      "source": [
        "## PyTorch ❤ NumPy\n",
        "\n",
        "Do you know NumPy? If you do, learning PyTorch will be a breeze! If you don't, prepare to learn the skills that will guide you on your journey Machine Learning Mastery!\n",
        "\n",
        "Let's start with something simple:"
      ]
    },
    {
      "cell_type": "code",
      "execution_count": 1,
      "metadata": {
        "colab": {},
        "colab_type": "code",
        "id": "Wk173ueH4Uxy"
      },
      "outputs": [],
      "source": [
        "import torch\n",
        "import numpy as np"
      ]
    },
    {
      "cell_type": "code",
      "execution_count": 2,
      "metadata": {
        "colab": {
          "base_uri": "https://localhost:8080/",
          "height": 34
        },
        "colab_type": "code",
        "id": "vfzfCdLx5FEm",
        "outputId": "7f9fe41b-e6a3-4941-9bb8-404c0f747ddf"
      },
      "outputs": [
        {
          "data": {
            "text/plain": [
              "array([ 9, 11])"
            ]
          },
          "execution_count": 2,
          "metadata": {},
          "output_type": "execute_result"
        }
      ],
      "source": [
        "a = np.array([1, 2])\n",
        "b = np.array([8, 9])\n",
        "\n",
        "c = a + b\n",
        "c"
      ]
    },
    {
      "cell_type": "markdown",
      "metadata": {
        "colab_type": "text",
        "id": "KwCAz4WM7XOy"
      },
      "source": [
        "Adding the same arrays with PyTorch looks like this:"
      ]
    },
    {
      "cell_type": "code",
      "execution_count": 3,
      "metadata": {
        "colab": {
          "base_uri": "https://localhost:8080/",
          "height": 34
        },
        "colab_type": "code",
        "id": "dDUOcIf07k8r",
        "outputId": "2d574606-4f2d-4f94-8c7a-c06e55bc1e75"
      },
      "outputs": [
        {
          "data": {
            "text/plain": [
              "tensor([ 9, 11])"
            ]
          },
          "execution_count": 3,
          "metadata": {},
          "output_type": "execute_result"
        }
      ],
      "source": [
        "a = torch.tensor([1, 2])\n",
        "b = torch.tensor([8, 9])\n",
        "\n",
        "c = a + b\n",
        "c"
      ]
    },
    {
      "cell_type": "markdown",
      "metadata": {
        "colab_type": "text",
        "id": "a-8tu_mlBVRx"
      },
      "source": [
        "Fortunately, you can go from NumPy to PyTorch:"
      ]
    },
    {
      "cell_type": "code",
      "execution_count": 4,
      "metadata": {
        "colab": {
          "base_uri": "https://localhost:8080/",
          "height": 34
        },
        "colab_type": "code",
        "id": "mYBBtOZ5BzZt",
        "outputId": "0170ea79-c8f5-4070-8ed0-8f48792680b5"
      },
      "outputs": [
        {
          "data": {
            "text/plain": [
              "array([1, 2])"
            ]
          },
          "execution_count": 4,
          "metadata": {},
          "output_type": "execute_result"
        }
      ],
      "source": [
        "a = torch.tensor([1, 2])\n",
        "\n",
        "a.numpy()"
      ]
    },
    {
      "cell_type": "markdown",
      "metadata": {
        "colab_type": "text",
        "id": "n_tueio4B9UM"
      },
      "source": [
        " and vice versa:"
      ]
    },
    {
      "cell_type": "code",
      "execution_count": 5,
      "metadata": {
        "colab": {
          "base_uri": "https://localhost:8080/",
          "height": 34
        },
        "colab_type": "code",
        "id": "wbGxHHCmCI0y",
        "outputId": "9bdee02c-655e-4af0-9ffb-00e1b751a7d9"
      },
      "outputs": [
        {
          "data": {
            "text/plain": [
              "tensor([1, 2])"
            ]
          },
          "execution_count": 5,
          "metadata": {},
          "output_type": "execute_result"
        }
      ],
      "source": [
        "a = np.array([1, 2])\n",
        "torch.from_numpy(a)"
      ]
    },
    {
      "cell_type": "markdown",
      "metadata": {
        "colab_type": "text",
        "id": "8eX91koTxYtc"
      },
      "source": [
        "The good news is that the conversions incur almost no cost on the performance of your app. The NumPy and PyTorch store data in memory in the same way. That is, PyTorch is reusing the work done by NumPy.\n",
        "\n",
        "## Tensors\n",
        "\n",
        "Tensors are just n-dimensional number (including booleans) containers. You can find the complete list of supported data types at [PyTorch's Tensor Docs](https://pytorch.org/docs/stable/tensors.html).\n",
        "\n",
        "So, how can you create a Tensor (try to ignore that I've already shown you how to do it)?\n",
        "\n"
      ]
    },
    {
      "cell_type": "code",
      "execution_count": 6,
      "metadata": {
        "colab": {
          "base_uri": "https://localhost:8080/",
          "height": 51
        },
        "colab_type": "code",
        "id": "YbBs1LnZ4In7",
        "outputId": "22e79557-9936-423c-b3bd-b81872fe1127"
      },
      "outputs": [
        {
          "data": {
            "text/plain": [
              "tensor([[1, 2],\n",
              "        [2, 1]])"
            ]
          },
          "execution_count": 6,
          "metadata": {},
          "output_type": "execute_result"
        }
      ],
      "source": [
        "torch.tensor([[1, 2], [2, 1]])"
      ]
    },
    {
      "cell_type": "markdown",
      "metadata": {
        "colab_type": "text",
        "id": "qpfHgg9j40Zx"
      },
      "source": [
        "You can create a tensor from floats:"
      ]
    },
    {
      "cell_type": "code",
      "execution_count": 7,
      "metadata": {
        "colab": {
          "base_uri": "https://localhost:8080/",
          "height": 51
        },
        "colab_type": "code",
        "id": "oQxFkDU94lZE",
        "outputId": "5b7283e1-c4cf-42b8-d40c-c06fbc7208da"
      },
      "outputs": [
        {
          "data": {
            "text/plain": [
              "tensor([[1., 2.],\n",
              "        [2., 1.]])"
            ]
          },
          "execution_count": 7,
          "metadata": {},
          "output_type": "execute_result"
        }
      ],
      "source": [
        "torch.FloatTensor([[1, 2], [2, 1]])"
      ]
    },
    {
      "cell_type": "markdown",
      "metadata": {
        "colab_type": "text",
        "id": "1_t2URO15H1m"
      },
      "source": [
        "Or define the type like so:"
      ]
    },
    {
      "cell_type": "code",
      "execution_count": 8,
      "metadata": {
        "colab": {
          "base_uri": "https://localhost:8080/",
          "height": 51
        },
        "colab_type": "code",
        "id": "V38yr_Jw47bz",
        "outputId": "b4b41f5b-e62f-4423-8312-d5c5536b514b"
      },
      "outputs": [
        {
          "data": {
            "text/plain": [
              "tensor([[True, True],\n",
              "        [True, True]])"
            ]
          },
          "execution_count": 8,
          "metadata": {},
          "output_type": "execute_result"
        }
      ],
      "source": [
        "torch.tensor([[1, 2], [2, 1]], dtype=torch.bool)"
      ]
    },
    {
      "cell_type": "markdown",
      "metadata": {
        "colab_type": "text",
        "id": "JmRTLJtN58lV"
      },
      "source": [
        "You can use a wide range of factory methods to create Tensors without manually specifying each number. For example, you can create a matrix with random numbers like this: "
      ]
    },
    {
      "cell_type": "code",
      "execution_count": 9,
      "metadata": {
        "colab": {
          "base_uri": "https://localhost:8080/",
          "height": 68
        },
        "colab_type": "code",
        "id": "IX7D1-fO59Tp",
        "outputId": "46527178-2120-4d4a-b759-724f76193d08"
      },
      "outputs": [
        {
          "data": {
            "text/plain": [
              "tensor([[0.5191, 0.6635],\n",
              "        [0.7862, 0.9497],\n",
              "        [0.8128, 0.6583]])"
            ]
          },
          "execution_count": 9,
          "metadata": {},
          "output_type": "execute_result"
        }
      ],
      "source": [
        "torch.rand(3, 2)"
      ]
    },
    {
      "cell_type": "markdown",
      "metadata": {
        "colab_type": "text",
        "id": "4vYL2FDC6emK"
      },
      "source": [
        "Or one full of ones:"
      ]
    },
    {
      "cell_type": "code",
      "execution_count": 10,
      "metadata": {
        "colab": {
          "base_uri": "https://localhost:8080/",
          "height": 68
        },
        "colab_type": "code",
        "id": "xpYH8oSK6haK",
        "outputId": "329b7140-5f8b-4f7f-8eb5-41b8a1c4747e"
      },
      "outputs": [
        {
          "data": {
            "text/plain": [
              "tensor([[1., 1.],\n",
              "        [1., 1.],\n",
              "        [1., 1.]])"
            ]
          },
          "execution_count": 10,
          "metadata": {},
          "output_type": "execute_result"
        }
      ],
      "source": [
        "torch.ones(3, 2)"
      ]
    },
    {
      "cell_type": "markdown",
      "metadata": {
        "colab_type": "text",
        "id": "CK5KF34VGNeI"
      },
      "source": [
        "PyTorch has a variety of useful operations:"
      ]
    },
    {
      "cell_type": "code",
      "execution_count": 11,
      "metadata": {
        "colab": {
          "base_uri": "https://localhost:8080/",
          "height": 68
        },
        "colab_type": "code",
        "id": "NLMyFkALGd84",
        "outputId": "d8498aef-e2c0-489f-db1d-7ea84fbd1f30"
      },
      "outputs": [
        {
          "name": "stdout",
          "output_type": "stream",
          "text": [
            "tensor([[2, 3],\n",
            "        [1, 2]])\n",
            "sum: 8\n"
          ]
        }
      ],
      "source": [
        "x = torch.tensor([[2, 3], [1, 2]])\n",
        "print(x)\n",
        "print(f'sum: {x.sum()}')"
      ]
    },
    {
      "cell_type": "markdown",
      "metadata": {
        "colab_type": "text",
        "id": "QyzGvIsAIt-u"
      },
      "source": [
        "Get the transpose of a 2-D tensor:"
      ]
    },
    {
      "cell_type": "code",
      "execution_count": 12,
      "metadata": {
        "colab": {
          "base_uri": "https://localhost:8080/",
          "height": 51
        },
        "colab_type": "code",
        "id": "rDgKzHgkIi4O",
        "outputId": "4fe531d4-71fb-4b28-b455-6593d0e86b51"
      },
      "outputs": [
        {
          "data": {
            "text/plain": [
              "tensor([[2, 1],\n",
              "        [3, 2]])"
            ]
          },
          "execution_count": 12,
          "metadata": {},
          "output_type": "execute_result"
        }
      ],
      "source": [
        "x.t()"
      ]
    },
    {
      "cell_type": "markdown",
      "metadata": {
        "colab_type": "text",
        "id": "d_JRK8brLZTh"
      },
      "source": [
        "Get the shape of each dimension:"
      ]
    },
    {
      "cell_type": "code",
      "execution_count": 13,
      "metadata": {
        "colab": {
          "base_uri": "https://localhost:8080/",
          "height": 34
        },
        "colab_type": "code",
        "id": "GvDZZ-igLaio",
        "outputId": "04cff3fb-e665-485c-c155-2f562667dc48"
      },
      "outputs": [
        {
          "data": {
            "text/plain": [
              "torch.Size([2, 2])"
            ]
          },
          "execution_count": 13,
          "metadata": {},
          "output_type": "execute_result"
        }
      ],
      "source": [
        "x.size()"
      ]
    },
    {
      "cell_type": "markdown",
      "metadata": {
        "colab_type": "text",
        "id": "zxjrhfUfR_rM"
      },
      "source": [
        "Generally, performing some operation creates a new Tensor:"
      ]
    },
    {
      "cell_type": "code",
      "execution_count": 14,
      "metadata": {
        "colab": {
          "base_uri": "https://localhost:8080/",
          "height": 51
        },
        "colab_type": "code",
        "id": "yy7LEtCCSszs",
        "outputId": "9fba705c-10dd-4c87-a1ec-41f95346a4b0"
      },
      "outputs": [
        {
          "data": {
            "text/plain": [
              "tensor([[4, 5],\n",
              "        [6, 3]])"
            ]
          },
          "execution_count": 14,
          "metadata": {},
          "output_type": "execute_result"
        }
      ],
      "source": [
        "y = torch.tensor([[2, 2], [5, 1]])\n",
        "z = x.add(y)\n",
        "z"
      ]
    },
    {
      "cell_type": "markdown",
      "metadata": {
        "colab_type": "text",
        "id": "e9B-2vSaT0tx"
      },
      "source": [
        "But you can do it in-place:"
      ]
    },
    {
      "cell_type": "code",
      "execution_count": 15,
      "metadata": {
        "colab": {
          "base_uri": "https://localhost:8080/",
          "height": 51
        },
        "colab_type": "code",
        "id": "Fd2KmNhvT-pb",
        "outputId": "663f18df-7f68-4936-c56f-2c22f5baf8e3"
      },
      "outputs": [
        {
          "data": {
            "text/plain": [
              "tensor([[4, 5],\n",
              "        [6, 3]])"
            ]
          },
          "execution_count": 15,
          "metadata": {},
          "output_type": "execute_result"
        }
      ],
      "source": [
        "x.add_(y)\n",
        "x"
      ]
    },
    {
      "cell_type": "markdown",
      "metadata": {
        "colab_type": "text",
        "id": "n1iRWWwOU_eq"
      },
      "source": [
        "Almost all operations have an in-place version - the name of the operation, followed by an underscore."
      ]
    },
    {
      "cell_type": "markdown",
      "metadata": {
        "colab_type": "text",
        "id": "opIXKjEOxaas"
      },
      "source": [
        "## Running on GPU\n",
        "\n",
        "At this point, you might be like: \"Why do I need PyTorch at all? All of this is perfectly doable with NumPy?\". PyTorch has three major superpowers: \n",
        "- you can run your operations on the GPU(s) (or something else)\n",
        "- [Autograd: automatic differentiation](https://pytorch.org/tutorials/beginner/blitz/autograd_tutorial.html)\n",
        "- A set of tools to build Neural Networks. Including several additional packages for working [with text](https://github.com/pytorch/text) or [images](https://github.com/pytorch/vision).\n",
        "\n",
        "Doing your Deep Learning computations on the GPU speeds up your experiment by a lot! And PyTorch makes it ridiculously easy to do it. Let's start by checking if GPU is available:"
      ]
    },
    {
      "cell_type": "code",
      "execution_count": 16,
      "metadata": {
        "colab": {
          "base_uri": "https://localhost:8080/",
          "height": 34
        },
        "colab_type": "code",
        "id": "8T3P8oGMZs03",
        "outputId": "93191030-8161-41bb-d897-cc542809b018"
      },
      "outputs": [
        {
          "data": {
            "text/plain": [
              "device(type='cpu')"
            ]
          },
          "execution_count": 16,
          "metadata": {},
          "output_type": "execute_result"
        }
      ],
      "source": [
        "device = torch.device(\"cuda\") if torch.cuda.is_available() else torch.device(\"cpu\")\n",
        "device"
      ]
    },
    {
      "cell_type": "markdown",
      "metadata": {
        "colab_type": "text",
        "id": "0IELcj4DaEU9"
      },
      "source": [
        "Good, we have a [CUDA](https://en.wikipedia.org/wiki/CUDA)-enabled GPU device on our hands. Let's store a Tensor on it:"
      ]
    },
    {
      "cell_type": "code",
      "execution_count": 17,
      "metadata": {
        "colab": {
          "base_uri": "https://localhost:8080/",
          "height": 51
        },
        "colab_type": "code",
        "id": "ctE2IzK3bsBp",
        "outputId": "a641a868-1124-46c3-da3b-22345bef28d4"
      },
      "outputs": [
        {
          "data": {
            "text/plain": [
              "tensor([[2, 3],\n",
              "        [1, 2]])"
            ]
          },
          "execution_count": 17,
          "metadata": {},
          "output_type": "execute_result"
        }
      ],
      "source": [
        "x = torch.tensor([[2, 3], [1, 2]])\n",
        "x.to(device)"
      ]
    },
    {
      "cell_type": "markdown",
      "metadata": {
        "colab_type": "text",
        "id": "yZK72ECLb4fO"
      },
      "source": [
        "Notice that our Tensor is now on device `cuda:0`. What can we do with it? Pretty much everything as before:"
      ]
    },
    {
      "cell_type": "code",
      "execution_count": 18,
      "metadata": {
        "colab": {
          "base_uri": "https://localhost:8080/",
          "height": 51
        },
        "colab_type": "code",
        "id": "7pAshM7ncDBY",
        "outputId": "36914743-b9ab-482c-840b-00c01cc46350"
      },
      "outputs": [
        {
          "data": {
            "text/plain": [
              "tensor([[4, 5],\n",
              "        [6, 3]])"
            ]
          },
          "execution_count": 18,
          "metadata": {},
          "output_type": "execute_result"
        }
      ],
      "source": [
        "x = x.to(device)\n",
        "\n",
        "y = torch.tensor([[2, 2], [5, 1]])\n",
        "y = y.to(device)\n",
        "\n",
        "x.add(y)"
      ]
    },
    {
      "cell_type": "markdown",
      "metadata": {
        "colab_type": "text",
        "id": "BNjzckYYxiUq"
      },
      "source": [
        "## Common Issues\n",
        "\n",
        "I got to be honest with you. You will fuck up, multiple times, before understanding how this whole thing works out. That's alright!\n",
        "\n",
        "However, there are a couple of things you can do that might minimize the frustrations along your journey:\n",
        "\n",
        "- Doing operations between GPU and CPU Tensors is **not allowed**\n",
        "- Size mismatch between Tensors occurs often and is (almost every time) easy to fix:\n",
        "\n"
      ]
    },
    {
      "cell_type": "code",
      "execution_count": 19,
      "metadata": {
        "colab": {
          "base_uri": "https://localhost:8080/",
          "height": 217
        },
        "colab_type": "code",
        "id": "Xx8xt6SExcW0",
        "outputId": "b29c3de8-3e9e-42b6-8d16-7ce93e03fbfc"
      },
      "outputs": [
        {
          "ename": "RuntimeError",
          "evalue": "The size of tensor a (2) must match the size of tensor b (3) at non-singleton dimension 1",
          "output_type": "error",
          "traceback": [
            "\u001b[0;31m---------------------------------------------------------------------------\u001b[0m",
            "\u001b[0;31mRuntimeError\u001b[0m                              Traceback (most recent call last)",
            "\u001b[1;32m/Volumes/T7/git/Pytorch/01.getting-started-with-pytorch.ipynb Cell 41\u001b[0m in \u001b[0;36m<cell line: 3>\u001b[0;34m()\u001b[0m\n\u001b[1;32m      <a href='vscode-notebook-cell:/Volumes/T7/git/Pytorch/01.getting-started-with-pytorch.ipynb#ch0000040?line=0'>1</a>\u001b[0m a \u001b[39m=\u001b[39m torch\u001b[39m.\u001b[39mones(\u001b[39m2\u001b[39m, \u001b[39m2\u001b[39m) \n\u001b[1;32m      <a href='vscode-notebook-cell:/Volumes/T7/git/Pytorch/01.getting-started-with-pytorch.ipynb#ch0000040?line=1'>2</a>\u001b[0m b \u001b[39m=\u001b[39m torch\u001b[39m.\u001b[39mones(\u001b[39m1\u001b[39m, \u001b[39m3\u001b[39m)\n\u001b[0;32m----> <a href='vscode-notebook-cell:/Volumes/T7/git/Pytorch/01.getting-started-with-pytorch.ipynb#ch0000040?line=2'>3</a>\u001b[0m a \u001b[39m*\u001b[39;49m b\n",
            "\u001b[0;31mRuntimeError\u001b[0m: The size of tensor a (2) must match the size of tensor b (3) at non-singleton dimension 1"
          ]
        }
      ],
      "source": [
        "a = torch.ones(2, 2) \n",
        "b = torch.ones(1, 3)\n",
        "a * b"
      ]
    },
    {
      "cell_type": "markdown",
      "metadata": {
        "colab_type": "text",
        "id": "d7_Aqx9mfCoV"
      },
      "source": [
        "PyTorch is very descriptive in this case. When doing more complex stuff, you would want to check the shape of your Tensors obsessively, after every operation. Just print the size!\n",
        "\n",
        "- Running out of GPU memory: You might be leaking memory or too large of a dataset/model. Faster/better GPU always helps. But remember, you can solve really large problems with a single powerful GPU these days. Think carefully if that is not enough for you - why that is?\n",
        "\n",
        "## Conclusion\n",
        "\n",
        "Welcome to the dark side! You might've been working with Keras, TensorFlow, or another Deep Learning framework, until recently. Almost every framework is great, but PyTorch has really solid roots. Easy to use and understand, allows for fast experimentation and standard debugging tools apply! Enjoy!"
      ]
    },
    {
      "cell_type": "markdown",
      "metadata": {
        "colab_type": "text",
        "id": "wAt2CDnYjAc4"
      },
      "source": [
        "## References\n",
        "\n",
        "- [\"PyTorch: A Modern Library for Machine Learning\" with Adam Paszke](https://www.youtube.com/watch?v=5bSAipCNqXo)\n",
        "- [Recitation 1 | Your First Deep Learning Code](https://www.youtube.com/watch?v=KrCp_yPVOxs)\n",
        "- [What is PyTorch?](https://pytorch.org/tutorials/beginner/blitz/tensor_tutorial.html)"
      ]
    },
    {
      "cell_type": "markdown",
      "metadata": {},
      "source": []
    }
  ],
  "metadata": {
    "accelerator": "GPU",
    "colab": {
      "collapsed_sections": [],
      "name": "01.getting-started-with-pytorch.ipynb",
      "provenance": []
    },
    "kernelspec": {
      "display_name": "Python 3.9.12 ('torch')",
      "language": "python",
      "name": "python3"
    },
    "language_info": {
      "codemirror_mode": {
        "name": "ipython",
        "version": 3
      },
      "file_extension": ".py",
      "mimetype": "text/x-python",
      "name": "python",
      "nbconvert_exporter": "python",
      "pygments_lexer": "ipython3",
      "version": "3.9.13"
    },
    "vscode": {
      "interpreter": {
        "hash": "efe379ce177169b44d92f6293e4804fb4b64dd48c6dbf719873d158e646669bc"
      }
    }
  },
  "nbformat": 4,
  "nbformat_minor": 0
}
